{
 "cells": [
  {
   "cell_type": "markdown",
   "id": "c076f59b",
   "metadata": {},
   "source": [
    "# requirement\n",
    "\n",
    "## 库\n",
    "xarray numpy metpy scipy xinvert(详见https://github.com/miniufo/xinvert)\n",
    "\n",
    "## 数据\n",
    "### 高空\n",
    "u v $\\omega$ t z q\n",
    "见https://cds.climate.copernicus.eu/cdsapp#!/dataset/reanalysis-era5-pressure-levels\n",
    "### 地面\n",
    "气压 2m温度\n",
    "见https://cds.climate.copernicus.eu/cdsapp#!/dataset/reanalysis-era5-single-levels\n",
    "### 地形\n",
    "见https://www.ngdc.noaa.gov/mgg/global/relief/ETOPO1/data/ice_surface/grid_registered/netcdf/\n",
    "\n"
   ]
  },
  {
   "cell_type": "markdown",
   "id": "0e4a8cf6",
   "metadata": {},
   "source": [
    "# cal"
   ]
  },
  {
   "attachments": {
    "image.png": {
     "image/png": "[encoded data removed]"
    }
   },
   "cell_type": "markdown",
   "id": "1226ee5e",
   "metadata": {},
   "source": [
    "Metpy中Q矢量计算公式\n",
    "$\\vec{Q} = (Q_1, Q_2) = - \\frac{R}{\\sigma p}\\left( \\frac{\\partial \\vec{v}_g}{\\partial x} \\cdot \\nabla_p T, \\frac{\\partial \\vec{v}_g}{\\partial y} \\cdot \\nabla_p T \\right)$\n",
    "\n",
    "地形强迫w：![image.png](attachment:image.png)"
   ]
  },
  {
   "cell_type": "code",
   "execution_count": 1,
   "id": "9952e461",
   "metadata": {
    "ExecuteTime": {
     "end_time": "2023-07-11T11:15:38.091709Z",
     "start_time": "2023-07-11T11:05:35.847526Z"
    }
   },
   "outputs": [],
   "source": [
    "import xarray as xr\n",
    "import numpy as np\n",
    "import metpy.calc as mpcalc\n",
    "import metpy.constants as mpconstants\n",
    "from metpy.units import units\n",
    "from scipy import ndimage\n",
    "\n",
    "def cal_S(t,levels):\n",
    "    te=t.loc[:,:,39:35,113.5:115.25]\n",
    "    theta=te.copy()\n",
    "    for L,pressure in enumerate(levels):\n",
    "        theta[:,L]=mpcalc.potential_temperature(pressure*units.Pa,te[:,L]*units.degK)\n",
    "    thetaa=theta.mean(['time','latitude','longitude'])\n",
    "    ta=te.mean(['time','latitude','longitude'])\n",
    "    S= -(mpconstants.Rd*ta/levels/thetaa)* mpcalc.first_derivative(f=thetaa,x=levels)\n",
    "    return S.data.magnitude\n",
    "\n",
    "def cal_sigma(t,q,levels):\n",
    "    extent=[113.5,115.25,35,39]\n",
    "    te=t.loc[:,:,39:35,113.5:115.25]\n",
    "    qe=q.loc[:,:,39:35,113.5:115.25]\n",
    "    rho,theta=te.copy(),te.copy()\n",
    "    sigma=te[0,:,0,0].copy()\n",
    "    for L,pressure in enumerate(levels):\n",
    "        rho[:,L]=mpcalc.density(pressure*units.Pa,te[:,L]*units.degK,qe[:,L]*units('kg/kg'))\n",
    "        theta[:,L]=mpcalc.potential_temperature(pressure*units.Pa,te[:,L]*units.degK)\n",
    "    rhoa=rho.mean(['time','latitude','longitude'])\n",
    "    thetaa=theta.mean(['time','latitude','longitude'])\n",
    "    sigma=-1/rhoa/thetaa*mpcalc.first_derivative(f=thetaa,x=levels)\n",
    "    return sigma.data\n",
    "\n",
    "def cal_dynamicforcing(u,v,t,levels):\n",
    "    T1=u.copy()\n",
    "    for T in range(len(u)):\n",
    "        for L,pressure in enumerate(levels):\n",
    "            Qx,Qy=mpcalc.q_vector(u[T,L]*units('m/s'),v[T,L]*units('m/s'),t[T,L]*units('K'),pressure*units('Pa'),dx=dx,dy=dy)\n",
    "            T1[T,L]=(-2)*mpcalc.divergence(Qx,Qy,dx=dx,dy=dy)\n",
    "    return T1\n",
    "\n",
    "def cal_earthrotationforcing(z,levels):\n",
    "    T2=z.copy()\n",
    "    for T in range(len(z)):\n",
    "        ug,vg=z[0].copy(),z[0].copy()\n",
    "        for L,pressure in enumerate(levels):\n",
    "            ug[L],vg[L]=mpcalc.geostrophic_wind(z[T,L]*units('m^2/s^2'),dx=dx,dy=dy,latitude=np.deg2rad(lat_2d))\n",
    "        for J in range(z.shape[2]):\n",
    "            for I in range(z.shape[3]):\n",
    "                T2[T,:,J,I]=f0*beta0*mpcalc.first_derivative(f=vg[:,J,I],x=levels)\n",
    "    return T2\n",
    "\n",
    "def cal_diabaticforcing(u,v,omg,t,time,levels,sigma):\n",
    "    T3=t.copy()\n",
    "    times=(time-time[0])/np.timedelta64(1,'s')\n",
    "    for L,pressure in enumerate(levels):\n",
    "        J=t[:,0].copy()\n",
    "        J1,J2,J3=J.copy(),J.copy(),J.copy()\n",
    "        for j in range(t.shape[2]):\n",
    "            for i in range(t.shape[3]):\n",
    "                J1[:,j,i]=mpcalc.first_derivative(f=t[:,L,j,i],x=times)\n",
    "        for T in range(len(times)):\n",
    "            J2[T]=mpcalc.advection(t[T,L],u[T,L],v[T,L],dx=dx,dy=dy)\n",
    "        J3=-pressure/mpconstants.Rd*sigma[L]*omg[:,L]\n",
    "        J=mpconstants.Cp_d*(J1+J2+J3.magnitude)\n",
    "        for T in range(len(times)):\n",
    "            T3[T,L]=-kappa/pressure*mpcalc.laplacian(J[T],deltas=[dx[1:,0],dy[0,1:]])\n",
    "    return T3\n",
    "\n",
    "def cal_boundaryomega(z,ts,ps,levels):\n",
    "    omg,w=np.zeros(z.shape),z[:,0].copy()\n",
    "    for T in range(len(z)):\n",
    "        ugs,vgs=z[0,0].copy(),z[0,0].copy()\n",
    "        ug,vg=z[0].copy(),z[0].copy()\n",
    "        for L,pressure in enumerate(levels):\n",
    "            Z = ndimage.gaussian_filter(z[T,L], sigma=3)\n",
    "            ug[L],vg[L]=mpcalc.geostrophic_wind(Z*units('m^2/s^2'),dx=dx,dy=dy,latitude=np.deg2rad(lat_2d))\n",
    "        for j in range(z.shape[2]):\n",
    "            for i in range(z.shape[3]):\n",
    "                ugs[j,i]=np.interp(ps[T,j,i],levels[::-1],ug[::-1,j,i])\n",
    "                vgs[j,i]=np.interp(ps[T,j,i],levels[::-1],vg[::-1,j,i])\n",
    "        h=xr.open_dataset('/home/jen/public/ETOPO1_Ice_g_gmt4.grd.nc')['z'][::-15,::15].loc[55.25:20,90:145]\n",
    "        H = ndimage.gaussian_filter(h, sigma=3)\n",
    "        ghy,ghx=mpcalc.gradient(H*units('m'),deltas=[dy,dx])\n",
    "        w[T]=ugs*ghx+vgs*ghy\n",
    "    omg[:,0]=mpcalc.vertical_velocity_pressure(w*units('m/s'),ps*units('Pa'),ts*units('K'))\n",
    "    return omg\n",
    "\n",
    "year='2021'\n",
    "if year=='2016':\n",
    "    stt,edt=17,47\n",
    "    ps=xr.open_dataset('2016071820surfacept.nc')['sp'][stt:edt]\n",
    "    ts=xr.open_dataset('2016071820surfacept.nc')['t2m'][stt:edt]\n",
    "    data=xr.open_dataset('/home/jen/A_research_2206/AFinal/finaldata/2016071820.nc')\n",
    "else:\n",
    "    stt,edt=30,40\n",
    "    ps=xr.open_dataset('2021071012surfacept.nc')['sp'][stt:edt]\n",
    "    ts=xr.open_dataset('2021071012surfacept.nc')['t2m'][stt:edt]\n",
    "    data=xr.open_dataset('/home/jen/A_research_2206/AFinal/finaldata/2021071012.nc')\n",
    "    \n",
    "u=data['u'].data[stt:edt,::-1]\n",
    "v=data['v'].data[stt:edt,::-1]\n",
    "omg=data['w'].data[stt:edt,::-1]\n",
    "t=data['t'][stt:edt,::-1]\n",
    "z=data['z'][stt:edt,::-1]\n",
    "q=data['q'][stt:edt,::-1]\n",
    "\n",
    "time=data['time'].data[stt:edt]   # event duration\n",
    "levels=z['level'].data*100     # Pa\n",
    "lon=data['longitude'].data\n",
    "lat=data['latitude'].data\n",
    "lon_2d,lat_2d=np.meshgrid(lon,lat)\n",
    "dx,dy = mpcalc.lat_lon_grid_deltas(lon,lat)\n",
    "\n",
    "###### constant\n",
    "loclat=np.deg2rad(37)  #中心纬度\n",
    "f0=2*mpconstants.omega*np.sin(loclat)\n",
    "beta0=2*mpconstants.omega*np.cos(loclat)/mpconstants.Re\n",
    "kappa=mpconstants.Rd/mpconstants.Cp_d\n",
    "sigma=cal_sigma(t,q,levels)\n",
    "S=cal_S(t,levels)    #static stability parameter \n",
    "######\n",
    "t=t.data\n",
    "z=z.data\n",
    "\n",
    "T1=cal_dynamicforcing(u,v,t,levels)\n",
    "T2=cal_earthrotationforcing(z,levels)\n",
    "T3=cal_diabaticforcing(u,v,omg,t,time,levels,S)\n",
    "omegaboundary=cal_boundaryomega(z,ts,ps,levels)\n"
   ]
  },
  {
   "cell_type": "code",
   "execution_count": 2,
   "id": "70d63d79",
   "metadata": {
    "ExecuteTime": {
     "end_time": "2023-07-11T11:29:27.858521Z",
     "start_time": "2023-07-11T11:29:22.396772Z"
    },
    "scrolled": true
   },
   "outputs": [],
   "source": [
    "ds=xr.Dataset({\n",
    "    'T1':(['time','level','lat','lon'],T1),\n",
    "    'T2':(['time','level','lat','lon'],T2),\n",
    "    'T3':(['time','level','lat','lon'],T3),\n",
    "    'omegas':(['time','level','lat','lon'],omegaboundary),\n",
    "    'S':(['level'],S),\n",
    "    \n",
    "}, \n",
    "      coords={\n",
    "          'time':(['time'],time),\n",
    "          'level':(['level'],levels),\n",
    "          'lat':(['lat'],lat),\n",
    "          'lon':(['lon'],lon),}\n",
    ")\n",
    "ds.to_netcdf(year+str(int(edt-stt))+'hT123_omegas_S.nc')"
   ]
  },
  {
   "cell_type": "markdown",
   "id": "1671b86c",
   "metadata": {},
   "source": [
    "# invert"
   ]
  },
  {
   "cell_type": "code",
   "execution_count": 3,
   "id": "8616f291",
   "metadata": {
    "ExecuteTime": {
     "end_time": "2023-07-11T11:52:31.395287Z",
     "start_time": "2023-07-11T11:29:48.814529Z"
    }
   },
   "outputs": [
    {
     "name": "stdout",
     "output_type": "stream",
     "text": [
      "{time: 2021-07-11T06:00:00} loops 1047 and tolerance is 0.000000e+00\n",
      "{time: 2021-07-11T07:00:00} loops 1058 and tolerance is 0.000000e+00\n",
      "{time: 2021-07-11T08:00:00} loops 1035 and tolerance is 0.000000e+00\n",
      "{time: 2021-07-11T09:00:00} loops 1020 and tolerance is 0.000000e+00\n",
      "{time: 2021-07-11T10:00:00} loops 1033 and tolerance is 0.000000e+00\n",
      "{time: 2021-07-11T11:00:00} loops 1086 and tolerance is 0.000000e+00\n",
      "{time: 2021-07-11T12:00:00} loops 1050 and tolerance is 0.000000e+00\n",
      "{time: 2021-07-11T13:00:00} loops 1070 and tolerance is 0.000000e+00\n",
      "{time: 2021-07-11T14:00:00} loops 1095 and tolerance is 0.000000e+00\n",
      "{time: 2021-07-11T15:00:00} loops 1084 and tolerance is 0.000000e+00\n",
      "omegatopo over!\n",
      "{time: 2021-07-11T06:00:00} loops 5000 and tolerance is 6.946375e-11\n",
      "{time: 2021-07-11T07:00:00} loops 5000 and tolerance is 1.090320e-09\n",
      "{time: 2021-07-11T08:00:00} loops 5000 and tolerance is 3.821478e-10\n",
      "{time: 2021-07-11T09:00:00} loops 5000 and tolerance is 3.783215e-10\n",
      "{time: 2021-07-11T10:00:00} loops 5000 and tolerance is 7.645851e-11\n",
      "{time: 2021-07-11T11:00:00} loops 5000 and tolerance is 6.787763e-10\n",
      "{time: 2021-07-11T12:00:00} loops 5000 and tolerance is 8.713570e-11\n",
      "{time: 2021-07-11T13:00:00} loops 5000 and tolerance is 5.346362e-10\n",
      "{time: 2021-07-11T14:00:00} loops 5000 and tolerance is 6.262802e-11\n",
      "{time: 2021-07-11T15:00:00} loops 5000 and tolerance is 2.008335e-10\n",
      "omegaT1 over!\n",
      "{time: 2021-07-11T06:00:00} loops 5000 and tolerance is 1.115450e-09\n",
      "{time: 2021-07-11T07:00:00} loops 5000 and tolerance is 6.393607e-10\n",
      "{time: 2021-07-11T08:00:00} loops 5000 and tolerance is 4.006669e-10\n",
      "{time: 2021-07-11T09:00:00} loops 5000 and tolerance is 2.381773e-10\n",
      "{time: 2021-07-11T10:00:00} loops 5000 and tolerance is 6.064666e-10\n",
      "{time: 2021-07-11T11:00:00} loops 5000 and tolerance is 4.518414e-11\n",
      "{time: 2021-07-11T12:00:00} loops 5000 and tolerance is 4.954877e-11\n",
      "{time: 2021-07-11T13:00:00} loops 5000 and tolerance is 3.711280e-10\n",
      "{time: 2021-07-11T14:00:00} loops 5000 and tolerance is 3.936665e-10\n",
      "{time: 2021-07-11T15:00:00} loops 5000 and tolerance is 1.403181e-09\n",
      "omegaT2 over!\n",
      "{time: 2021-07-11T06:00:00} loops 5000 and tolerance is 1.297251e-10\n",
      "{time: 2021-07-11T07:00:00} loops 5000 and tolerance is 1.625966e-10\n",
      "{time: 2021-07-11T08:00:00} loops 5000 and tolerance is 3.986575e-11\n",
      "{time: 2021-07-11T09:00:00} loops 3607 and tolerance is 0.000000e+00\n",
      "{time: 2021-07-11T10:00:00} loops 5000 and tolerance is 3.954082e-10\n",
      "{time: 2021-07-11T11:00:00} loops 5000 and tolerance is 7.756046e-11\n",
      "{time: 2021-07-11T12:00:00} loops 5000 and tolerance is 5.624227e-10\n",
      "{time: 2021-07-11T13:00:00} loops 5000 and tolerance is 1.341402e-11\n",
      "{time: 2021-07-11T14:00:00} loops 5000 and tolerance is 9.996131e-11\n",
      "{time: 2021-07-11T15:00:00} loops 5000 and tolerance is 1.572413e-10\n",
      "omegaT3 over!\n"
     ]
    }
   ],
   "source": [
    "import xarray as xr\n",
    "import numpy as np\n",
    "from xinvert import invert_omega\n",
    "year='202110'\n",
    "ds=xr.open_dataset(year+'hT123_omegas_S.nc')\n",
    "\n",
    "omegas=ds['omegas']\n",
    "S=ds['S']\n",
    "T1=ds['T1']\n",
    "\n",
    "zero0=np.zeros((T1.shape))\n",
    "z0=xr.DataArray(zero0, coords={\n",
    "          'time':(['time'],T1['time'].data),\n",
    "          'level':(['level'],T1['level'].data),\n",
    "          'lat':(['lat'],T1['lat'].data),\n",
    "          'lon':(['lon'],T1['lon'].data),})\n",
    "\n",
    "iParams = {\n",
    "    'BCs'      : ['fixed', 'fixed', 'fixed'],\n",
    "    'tolerance': 1e-16,\n",
    "}\n",
    "mParams = {'N2':S,\n",
    "          'f0':f0,\n",
    "           'beta':beta0,\n",
    "          }\n",
    "\n",
    "omegatopo=invert_omega(z0, dims=['level', 'lat', 'lon'], icbc=omegas,iParams=iParams, mParams=mParams)\n",
    "omegatopo.to_netcdf(year+'homegatopo.nc')\n",
    "print('omegatopo over!')\n",
    "\n",
    "var=['T1','T2','T3']\n",
    "for V,vvar in enumerate(var):\n",
    "    T=ds[vvar]\n",
    "    omgt=invert_omega(T,dims=['level','lat','lon'],iParams=iParams,mParams=mParams)\n",
    "    omgt.to_netcdf(year+'h'+vvar+'omega.nc')\n",
    "    print('omega'+vvar+' over!')"
   ]
  },
  {
   "cell_type": "markdown",
   "id": "60f1f2da",
   "metadata": {},
   "source": [
    "##  combine"
   ]
  },
  {
   "cell_type": "code",
   "execution_count": 4,
   "id": "ce48bf13",
   "metadata": {
    "ExecuteTime": {
     "end_time": "2023-07-11T12:11:52.447710Z",
     "start_time": "2023-07-11T12:11:48.734272Z"
    }
   },
   "outputs": [],
   "source": [
    "year='202110'\n",
    "o1=xr.open_dataset(year+'hT1omega.nc')['inverted']\n",
    "o2=xr.open_dataset(year+'hT2omega.nc')['inverted']\n",
    "o3=xr.open_dataset(year+'hT3omega.nc')['inverted']\n",
    "ot=xr.open_dataset(year+'homegatopo.nc')['inverted']\n",
    "\n",
    "ds=xr.Dataset({\n",
    "    'omega_dynamic':(['time','level','lat','lon'],o1.data),\n",
    "    'omega_beta':(['time','level','lat','lon'],o2.data),\n",
    "    'omega_diabatic':(['time','level','lat','lon'],o3.data),\n",
    "    'omega_topographic':(['time','level','lat','lon'],ot.data),\n",
    "}, \n",
    "      coords={\n",
    "          'time':(['time'],o1['time'].data),\n",
    "          'level':(['level'],o1['level'].data),\n",
    "          'lat':(['lat'],o1['lat'].data),\n",
    "          'lon':(['lon'],o1['lon'].data),}\n",
    ")\n",
    "ds.to_netcdf(year+'hQGomega_S.nc')\n"
   ]
  },
  {
   "cell_type": "markdown",
   "id": "4d273771",
   "metadata": {
    "heading_collapsed": true
   },
   "source": [
    "# draw event mean"
   ]
  },
  {
   "cell_type": "code",
   "execution_count": 10,
   "id": "ab31812e",
   "metadata": {
    "ExecuteTime": {
     "end_time": "2023-07-11T12:14:03.972776Z",
     "start_time": "2023-07-11T12:14:00.528057Z"
    },
    "hidden": true
   },
   "outputs": [
    {
     "data": {
      "image/png": "[encoded data removed]",
      "text/plain": [
       "<Figure size 300x400 with 1 Axes>"
      ]
     },
     "metadata": {},
     "output_type": "display_data"
    }
   ],
   "source": [
    "import xarray as xr\n",
    "import numpy as np\n",
    "import pandas as pd\n",
    "import matplotlib.pyplot as plt\n",
    "from matplotlib.ticker import MultipleLocator\n",
    "import metpy.calc as mpcalc\n",
    "\n",
    "year='201630'\n",
    "if year=='201630':\n",
    "    datar=xr.open_dataset('/home/jen/A_research_2206/AFinal/finaldata/2016071820.nc')\n",
    "    stt,edt=17,47\n",
    "else:\n",
    "    datar=xr.open_dataset('/home/jen/A_research_2206/AFinal/finaldata/2021071012.nc')\n",
    "    stt,edt=30,40\n",
    "    \n",
    "data=xr.open_dataset(year+'hQGomega_S.nc')\n",
    "o1=data['omega_dynamic'].loc[:,:,39:35,113.5:115.25].mean(['time','lon','lat'])\n",
    "o2=data['omega_beta'].loc[:,:,39:35,113.5:115.25].mean(['time','lon','lat'])\n",
    "o3=data['omega_diabatic'].loc[:,:,39:35,113.5:115.25].mean(['time','lon','lat'])\n",
    "ot=data['omega_topographic'].loc[:,:,39:35,113.5:115.25].mean(['time','lon','lat'])\n",
    "oall=o1+o2+o3+ot\n",
    "levels=data['level']/100\n",
    "levelsr=datar['level']\n",
    "omgr=datar['w'][stt:edt].loc[:,:,39:35,113.5:115.25].mean(['time','longitude','latitude'])\n",
    "\n",
    "fig=plt.figure(figsize=(3,4))\n",
    "f= fig.add_axes([0.22,0.15,0.75,0.75])\n",
    "f.invert_yaxis()\n",
    "f.set_yscale('symlog')\n",
    "plt.yticks(np.arange(100,1100,100))\n",
    "f.set_yticklabels([100,  200,  300,  400,  500,  600,700, 800, 900,1000])\n",
    "plt.ylim(ymin=1000, ymax=150)\n",
    "# plt.xlim(xmin=0, xmax=20)\n",
    "\n",
    "f.spines['top'].set_color('none')\n",
    "f.spines['right'].set_color('none')\n",
    "plt.xlabel('Vertical velocity (Pa s$^{\\endash 1}$)',x=0.5,labelpad=3,fontsize=12)\n",
    "plt.ylabel('level (hPa)',y=0.5,labelpad=3,fontsize=12,rotation=90)\n",
    "\n",
    "c5=plt.plot(oall,levels,color='#104E8B',label='$\\omega_{QG}$')\n",
    "c1=plt.plot(o1,levels,color='#00BFFF',label='$\\omega_{Dyn}$')\n",
    "c2=plt.plot(o2,levels,color='green',linestyle='--',label='$\\omega_{Beta}$')\n",
    "\n",
    "c3=plt.plot(o3,levels,color='#FF3030',label='$\\omega_{Dia}$')\n",
    "\n",
    "c4=plt.plot(ot,levels,color='#8B4C39',linestyle='--',label='$\\omega_{Topo}$')\n",
    "c5=plt.plot(omgr,levelsr,color='black',linestyle='--',label='$\\omega$')\n",
    "# plt.legend()\n",
    "\n",
    "plt.title(year+'h',loc='left')\n",
    "plt.savefig('eventaveraged'+year+'.png',dpi=650)"
   ]
  }
 ],
 "metadata": {
  "kernelspec": {
   "display_name": "Python 3 (ipykernel)",
   "language": "python",
   "name": "python3"
  },
  "language_info": {
   "codemirror_mode": {
    "name": "ipython",
    "version": 3
   },
   "file_extension": ".py",
   "mimetype": "text/x-python",
   "name": "python",
   "nbconvert_exporter": "python",
   "pygments_lexer": "ipython3",
   "version": "3.7.13"
  },
  "toc": {
   "base_numbering": 1,
   "nav_menu": {},
   "number_sections": true,
   "sideBar": true,
   "skip_h1_title": false,
   "title_cell": "Table of Contents",
   "title_sidebar": "Contents",
   "toc_cell": false,
   "toc_position": {},
   "toc_section_display": true,
   "toc_window_display": false
  },
  "varInspector": {
   "cols": {
    "lenName": 16,
    "lenType": 16,
    "lenVar": 40
   },
   "kernels_config": {
    "python": {
     "delete_cmd_postfix": "",
     "delete_cmd_prefix": "del ",
     "library": "var_list.py",
     "varRefreshCmd": "print(var_dic_list())"
    },
    "r": {
     "delete_cmd_postfix": ") ",
     "delete_cmd_prefix": "rm(",
     "library": "var_list.r",
     "varRefreshCmd": "cat(var_dic_list()) "
    }
   },
   "types_to_exclude": [
    "module",
    "function",
    "builtin_function_or_method",
    "instance",
    "_Feature"
   ],
   "window_display": false
  }
 },
 "nbformat": 4,
 "nbformat_minor": 5
}
